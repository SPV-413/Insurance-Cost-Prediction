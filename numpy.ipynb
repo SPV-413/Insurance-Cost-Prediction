{
 "cells": [
  {
   "cell_type": "markdown",
   "id": "25f2e57d-340d-41f3-a49c-af16e50bc1c0",
   "metadata": {},
   "source": [
    "## numpy"
   ]
  },
  {
   "cell_type": "code",
   "execution_count": null,
   "id": "4d5a3544-38c7-4262-8f14-2130a39a6dda",
   "metadata": {},
   "outputs": [],
   "source": [
    "import numpy as np\n"
   ]
  },
  {
   "cell_type": "code",
   "execution_count": 2,
   "id": "9280c37f-8304-4e53-b39c-402cc4b4fddd",
   "metadata": {},
   "outputs": [
    {
     "data": {
      "text/plain": [
       "[1,\n",
       " 2,\n",
       " 3,\n",
       " 4,\n",
       " 5,\n",
       " 6,\n",
       " 7,\n",
       " 8,\n",
       " 9,\n",
       " 10,\n",
       " 11,\n",
       " 12,\n",
       " 13,\n",
       " 14,\n",
       " 15,\n",
       " 16,\n",
       " 17,\n",
       " 18,\n",
       " 19,\n",
       " 20,\n",
       " 21,\n",
       " 22,\n",
       " 23,\n",
       " 24,\n",
       " 25,\n",
       " 26,\n",
       " 27,\n",
       " 28,\n",
       " 29,\n",
       " 30,\n",
       " 31,\n",
       " 32,\n",
       " 33,\n",
       " 34,\n",
       " 35,\n",
       " 36,\n",
       " 37,\n",
       " 38,\n",
       " 39,\n",
       " 40,\n",
       " 41,\n",
       " 42,\n",
       " 43,\n",
       " 44,\n",
       " 45,\n",
       " 46,\n",
       " 47,\n",
       " 48,\n",
       " 49,\n",
       " 50,\n",
       " 51,\n",
       " 52,\n",
       " 53,\n",
       " 54,\n",
       " 55,\n",
       " 56,\n",
       " 57,\n",
       " 58,\n",
       " 59,\n",
       " 60,\n",
       " 61,\n",
       " 62,\n",
       " 63,\n",
       " 64,\n",
       " 65,\n",
       " 66,\n",
       " 67,\n",
       " 68,\n",
       " 69,\n",
       " 70,\n",
       " 71,\n",
       " 72,\n",
       " 73,\n",
       " 74,\n",
       " 75,\n",
       " 76,\n",
       " 77,\n",
       " 78,\n",
       " 79,\n",
       " 80,\n",
       " 81,\n",
       " 82,\n",
       " 83,\n",
       " 84,\n",
       " 85,\n",
       " 86,\n",
       " 87,\n",
       " 88,\n",
       " 89,\n",
       " 90,\n",
       " 91,\n",
       " 92,\n",
       " 93,\n",
       " 94,\n",
       " 95,\n",
       " 96,\n",
       " 97,\n",
       " 98,\n",
       " 99,\n",
       " 100]"
      ]
     },
     "execution_count": 2,
     "metadata": {},
     "output_type": "execute_result"
    }
   ],
   "source": [
    "# benefit memory consumption\n",
    "import sys\n",
    "list1=list(range(1,101))\n",
    "list1"
   ]
  },
  {
   "cell_type": "code",
   "execution_count": 4,
   "id": "7e4b96d7-3ea6-4086-af60-32d28f2a6056",
   "metadata": {},
   "outputs": [
    {
     "data": {
      "text/plain": [
       "28"
      ]
     },
     "execution_count": 4,
     "metadata": {},
     "output_type": "execute_result"
    }
   ],
   "source": [
    "sys.getsizeof(list1[0])"
   ]
  },
  {
   "cell_type": "code",
   "execution_count": 6,
   "id": "c1697c01-cbbe-4f04-9990-fdc1435494e8",
   "metadata": {},
   "outputs": [
    {
     "data": {
      "text/plain": [
       "2800"
      ]
     },
     "execution_count": 6,
     "metadata": {},
     "output_type": "execute_result"
    }
   ],
   "source": [
    "sys.getsizeof(list1[0])*len(list1)"
   ]
  },
  {
   "cell_type": "code",
   "execution_count": 10,
   "id": "4639c2b0-ecf3-4ad6-acdd-795a0db722c4",
   "metadata": {},
   "outputs": [
    {
     "data": {
      "text/plain": [
       "array([  1,   2,   3,   4,   5,   6,   7,   8,   9,  10,  11,  12,  13,\n",
       "        14,  15,  16,  17,  18,  19,  20,  21,  22,  23,  24,  25,  26,\n",
       "        27,  28,  29,  30,  31,  32,  33,  34,  35,  36,  37,  38,  39,\n",
       "        40,  41,  42,  43,  44,  45,  46,  47,  48,  49,  50,  51,  52,\n",
       "        53,  54,  55,  56,  57,  58,  59,  60,  61,  62,  63,  64,  65,\n",
       "        66,  67,  68,  69,  70,  71,  72,  73,  74,  75,  76,  77,  78,\n",
       "        79,  80,  81,  82,  83,  84,  85,  86,  87,  88,  89,  90,  91,\n",
       "        92,  93,  94,  95,  96,  97,  98,  99, 100])"
      ]
     },
     "execution_count": 10,
     "metadata": {},
     "output_type": "execute_result"
    }
   ],
   "source": [
    "import numpy as np\n",
    "arr=np.arange(1,101)\n",
    "arr"
   ]
  },
  {
   "cell_type": "code",
   "execution_count": 12,
   "id": "c303094e-664f-48ad-87ef-ff78d291626e",
   "metadata": {},
   "outputs": [
    {
     "data": {
      "text/plain": [
       "4"
      ]
     },
     "execution_count": 12,
     "metadata": {},
     "output_type": "execute_result"
    }
   ],
   "source": [
    "arr.itemsize"
   ]
  },
  {
   "cell_type": "code",
   "execution_count": 14,
   "id": "6ae2245b-82de-4e10-ae51-fe4c2d8aa28c",
   "metadata": {},
   "outputs": [
    {
     "data": {
      "text/plain": [
       "100"
      ]
     },
     "execution_count": 14,
     "metadata": {},
     "output_type": "execute_result"
    }
   ],
   "source": [
    "arr.size"
   ]
  },
  {
   "cell_type": "code",
   "execution_count": 16,
   "id": "92026e99-43c2-4a73-9688-77d2d6d86bb7",
   "metadata": {},
   "outputs": [
    {
     "data": {
      "text/plain": [
       "400"
      ]
     },
     "execution_count": 16,
     "metadata": {},
     "output_type": "execute_result"
    }
   ],
   "source": [
    "arr.nbytes"
   ]
  },
  {
   "cell_type": "code",
   "execution_count": 91,
   "id": "98ce2f87-05b4-492e-9091-d50f9330f61a",
   "metadata": {},
   "outputs": [
    {
     "name": "stdout",
     "output_type": "stream",
     "text": [
      "0 0\n",
      "1 1\n",
      "2 2\n",
      "3 3\n",
      "4 4\n",
      "5 5\n",
      "6 6\n",
      "7 7\n",
      "8 8\n",
      "9 9\n",
      "10 10\n",
      "11 11\n",
      "12 12\n",
      "13 13\n",
      "14 14\n",
      "15 15\n",
      "16 16\n",
      "17 17\n",
      "18 18\n",
      "19 19\n",
      "20 20\n",
      "21 21\n",
      "22 22\n",
      "23 23\n",
      "24 24\n",
      "25 25\n",
      "26 26\n",
      "27 27\n",
      "28 28\n",
      "29 29\n",
      "30 30\n",
      "31 31\n",
      "32 32\n",
      "33 33\n",
      "34 34\n",
      "35 35\n",
      "36 36\n",
      "37 37\n",
      "38 38\n",
      "39 39\n",
      "40 40\n",
      "41 41\n",
      "42 42\n",
      "43 43\n",
      "44 44\n",
      "45 45\n",
      "46 46\n",
      "47 47\n",
      "48 48\n",
      "49 49\n",
      "50 50\n",
      "51 51\n",
      "52 52\n",
      "53 53\n",
      "54 54\n",
      "55 55\n",
      "56 56\n",
      "57 57\n",
      "58 58\n",
      "59 59\n",
      "60 60\n",
      "61 61\n",
      "62 62\n",
      "63 63\n",
      "64 64\n",
      "65 65\n",
      "66 66\n",
      "67 67\n",
      "68 68\n",
      "69 69\n",
      "70 70\n",
      "71 71\n",
      "72 72\n",
      "73 73\n",
      "74 74\n",
      "75 75\n",
      "76 76\n",
      "77 77\n",
      "78 78\n",
      "79 79\n",
      "80 80\n",
      "81 81\n",
      "82 82\n",
      "83 83\n",
      "84 84\n",
      "85 85\n",
      "86 86\n",
      "87 87\n",
      "88 88\n",
      "89 89\n",
      "90 90\n",
      "91 91\n",
      "92 92\n",
      "93 93\n",
      "94 94\n",
      "95 95\n",
      "96 96\n",
      "97 97\n",
      "98 98\n",
      "99 99\n"
     ]
    }
   ],
   "source": [
    "# benefit fast computation\n",
    "list1=list(range(100))\n",
    "list2=list(range(100))\n",
    "for x,y in zip(list1,list2):\n",
    "    print(x,y)"
   ]
  },
  {
   "cell_type": "code",
   "execution_count": 139,
   "id": "d125018e-6f6e-44dc-b67f-270bdbfa2696",
   "metadata": {},
   "outputs": [
    {
     "name": "stdout",
     "output_type": "stream",
     "text": [
      "list time: 0.0\n"
     ]
    }
   ],
   "source": [
    "\n",
    "start=time.time()\n",
    "sum1=[x+y for x,y in zip(list1,list2)]\n",
    "end=time.time()\n",
    "print('list time:',end-start)"
   ]
  },
  {
   "cell_type": "code",
   "execution_count": 121,
   "id": "9121b369-022e-4453-b6ea-4062e38fb1a2",
   "metadata": {},
   "outputs": [
    {
     "name": "stdout",
     "output_type": "stream",
     "text": [
      "list time 0.010000228881835938\n"
     ]
    }
   ],
   "source": [
    "arr1=np.arange(100)\n",
    "arr2=np.arange(100)\n",
    "start=time.time()\n",
    "arr3=arr1+arr2\n",
    "end=time.time()\n",
    "print('list time',end-start)"
   ]
  },
  {
   "cell_type": "code",
   "execution_count": 170,
   "id": "6f71d05e-ce2e-4f0d-8e15-f48e0d75aa6a",
   "metadata": {},
   "outputs": [
    {
     "data": {
      "text/plain": [
       "array([], dtype=float64)"
      ]
     },
     "execution_count": 170,
     "metadata": {},
     "output_type": "execute_result"
    }
   ],
   "source": [
    "# create empty array\n",
    "arr1=np.array([])\n",
    "arr1"
   ]
  },
  {
   "cell_type": "code",
   "execution_count": 172,
   "id": "878513a8-5f7c-404c-87b9-39a1c4639b07",
   "metadata": {},
   "outputs": [
    {
     "data": {
      "text/plain": [
       "array([1., 2., 3.])"
      ]
     },
     "execution_count": 172,
     "metadata": {},
     "output_type": "execute_result"
    }
   ],
   "source": [
    "arr1=np.append(arr1,[1,2,3])\n",
    "arr1"
   ]
  },
  {
   "cell_type": "code",
   "execution_count": 174,
   "id": "55696083-5f1a-4ed4-8eab-504db7032f04",
   "metadata": {},
   "outputs": [
    {
     "data": {
      "text/plain": [
       "array([ 1.,  2., 10.,  3.])"
      ]
     },
     "execution_count": 174,
     "metadata": {},
     "output_type": "execute_result"
    }
   ],
   "source": [
    "arr1=np.insert(arr1,2,10)\n",
    "arr1"
   ]
  },
  {
   "cell_type": "code",
   "execution_count": 176,
   "id": "21ff1783-9dae-46fa-8853-7a5ce47d149d",
   "metadata": {},
   "outputs": [
    {
     "data": {
      "text/plain": [
       "array([ 1.,  2., 20., 15., 10.,  3.])"
      ]
     },
     "execution_count": 176,
     "metadata": {},
     "output_type": "execute_result"
    }
   ],
   "source": [
    "arr1=np.insert(arr1,2,[20,15])\n",
    "arr1"
   ]
  },
  {
   "cell_type": "code",
   "execution_count": 191,
   "id": "2500efce-3ab8-4294-a73d-aeccce7666f2",
   "metadata": {},
   "outputs": [
    {
     "data": {
      "text/plain": [
       "array([ 1.,  2., 10.,  3.,  1.,  2.,  3.])"
      ]
     },
     "execution_count": 191,
     "metadata": {},
     "output_type": "execute_result"
    }
   ],
   "source": [
    "arr1=np.delete(arr1,2)\n",
    "arr1"
   ]
  },
  {
   "cell_type": "code",
   "execution_count": 199,
   "id": "ca60abf3-6aab-489a-847a-f46ac22772be",
   "metadata": {},
   "outputs": [
    {
     "data": {
      "text/plain": [
       "array([1, 2, 3])"
      ]
     },
     "execution_count": 199,
     "metadata": {},
     "output_type": "execute_result"
    }
   ],
   "source": [
    "arr2=np.array([],dtype=int)\n",
    "arr2=np.append(arr2,[1,2,3])\n",
    "arr2"
   ]
  },
  {
   "cell_type": "code",
   "execution_count": 201,
   "id": "6d559b11-6ac9-4d0e-b813-e962e289a72e",
   "metadata": {},
   "outputs": [
    {
     "data": {
      "text/plain": [
       "array([ 1, 20,  2,  3])"
      ]
     },
     "execution_count": 201,
     "metadata": {},
     "output_type": "execute_result"
    }
   ],
   "source": [
    "arr2=np.insert(arr2,1,20)\n",
    "arr2"
   ]
  },
  {
   "cell_type": "code",
   "execution_count": 203,
   "id": "dfd81d71-da5d-48d7-b816-602c34d9a643",
   "metadata": {},
   "outputs": [
    {
     "data": {
      "text/plain": [
       "array([1, 2, 3])"
      ]
     },
     "execution_count": 203,
     "metadata": {},
     "output_type": "execute_result"
    }
   ],
   "source": [
    "arr2=np.delete(arr2,1)\n",
    "arr2"
   ]
  },
  {
   "cell_type": "code",
   "execution_count": 7,
   "id": "5859483b-163c-40f2-ad4f-e4b175563df8",
   "metadata": {},
   "outputs": [
    {
     "name": "stdout",
     "output_type": "stream",
     "text": [
      "[ 1  2  5 10 15 25]\n",
      "<class 'numpy.ndarray'>\n"
     ]
    },
    {
     "data": {
      "text/plain": [
       "array([ 1,  2,  5, 10, 15, 25])"
      ]
     },
     "execution_count": 7,
     "metadata": {},
     "output_type": "execute_result"
    }
   ],
   "source": [
    "# 1D array\n",
    "import numpy as np\n",
    "arr1=np.array([1,2,5,10,15,25])\n",
    "print(arr1)\n",
    "print(type(arr1))\n",
    "arr1"
   ]
  },
  {
   "cell_type": "code",
   "execution_count": 5,
   "id": "41252f18-9535-4d67-82be-4ae5157cc0fe",
   "metadata": {},
   "outputs": [
    {
     "name": "stdout",
     "output_type": "stream",
     "text": [
      "1\n",
      "6\n",
      "(6,)\n",
      "4\n",
      "24\n",
      "int32\n"
     ]
    }
   ],
   "source": [
    "print(arr1.ndim)\n",
    "print(arr1.size)\n",
    "print(arr1.shape)\n",
    "print(arr1.itemsize)\n",
    "print(arr1.nbytes)\n",
    "print(arr1.dtype)"
   ]
  },
  {
   "cell_type": "code",
   "execution_count": 19,
   "id": "b1902f43-bb9c-4197-9f5a-c6e70461bd51",
   "metadata": {},
   "outputs": [
    {
     "name": "stdout",
     "output_type": "stream",
     "text": [
      "[[1 2 3]\n",
      " [4 5 6]\n",
      " [7 8 9]]\n",
      "2\n",
      "(3, 3)\n",
      "int32\n",
      "9\n",
      "4\n",
      "36\n"
     ]
    }
   ],
   "source": [
    "# 2D array\n",
    "arr2=np.array([[1,2,3],[4,5,6],[7,8,9]])\n",
    "print(arr2)\n",
    "print(arr2.ndim)\n",
    "print(arr2.shape)\n",
    "print(arr2.dtype)\n",
    "print(arr2.size)\n",
    "print(arr2.itemsize)\n",
    "print(arr2.nbytes)\n",
    "     "
   ]
  },
  {
   "cell_type": "code",
   "execution_count": 25,
   "id": "1954a659-8cf6-4054-a07b-e72aee0924e9",
   "metadata": {},
   "outputs": [
    {
     "name": "stdout",
     "output_type": "stream",
     "text": [
      "[[[ 1  2  3]\n",
      "  [ 4  5  6]]\n",
      "\n",
      " [[ 7  8  9]\n",
      "  [10 11 12]]]\n",
      "3\n",
      "(2, 2, 3)\n",
      "int32\n",
      "12\n",
      "4\n",
      "48\n"
     ]
    }
   ],
   "source": [
    "# 3D array\n",
    "arr3=np.array([[[1,2,3],[4,5,6]],[[7,8,9],[10,11,12]]])\n",
    "print(arr3)\n",
    "print(arr3.ndim)\n",
    "print(arr3.shape)\n",
    "print(arr3.dtype)\n",
    "print(arr3.size)\n",
    "print(arr3.itemsize)\n",
    "print(arr3.nbytes)"
   ]
  },
  {
   "cell_type": "code",
   "execution_count": 43,
   "id": "ac49b026-505a-4993-ae6c-cf78a6f022a4",
   "metadata": {},
   "outputs": [
    {
     "name": "stdout",
     "output_type": "stream",
     "text": [
      "10\n",
      "25\n",
      "[25 15 10  5  2  1]\n"
     ]
    }
   ],
   "source": [
    "# arr[index]\n",
    "arr1=np.array([1,2,5,10,15,25])\n",
    "print(arr1[3])\n",
    "print(arr1[-1])\n",
    "print(arr1[::-1])"
   ]
  },
  {
   "cell_type": "code",
   "execution_count": 35,
   "id": "3c589d28-f8fa-43cb-abf4-86420d961014",
   "metadata": {},
   "outputs": [
    {
     "data": {
      "text/plain": [
       "5"
      ]
     },
     "execution_count": 35,
     "metadata": {},
     "output_type": "execute_result"
    }
   ],
   "source": [
    "arr2=np.array([[1,2,3],[4,5,6],[7,8,9]])\n",
    "arr2[1,1]"
   ]
  },
  {
   "cell_type": "code",
   "execution_count": 37,
   "id": "998e927c-b3cc-4e0f-9df9-a1960a9e1f09",
   "metadata": {},
   "outputs": [
    {
     "data": {
      "text/plain": [
       "3"
      ]
     },
     "execution_count": 37,
     "metadata": {},
     "output_type": "execute_result"
    }
   ],
   "source": [
    "arr2[0,-1]"
   ]
  },
  {
   "cell_type": "code",
   "execution_count": 45,
   "id": "9f84c1ae-03c9-4673-961e-b0c6731911f0",
   "metadata": {},
   "outputs": [
    {
     "data": {
      "text/plain": [
       "8"
      ]
     },
     "execution_count": 45,
     "metadata": {},
     "output_type": "execute_result"
    }
   ],
   "source": [
    "arr2[2,1]"
   ]
  },
  {
   "cell_type": "code",
   "execution_count": 57,
   "id": "5310476b-8ad2-4d31-9214-81b3f1dd5cf1",
   "metadata": {},
   "outputs": [],
   "source": [
    "arr3=np.array([[[1,2,3],[4,5,6]],[[7,8,9],[10,11,12]]])"
   ]
  },
  {
   "cell_type": "code",
   "execution_count": 59,
   "id": "da6888ce-310f-41d6-b23d-98ebb5ed4653",
   "metadata": {},
   "outputs": [
    {
     "data": {
      "text/plain": [
       "2"
      ]
     },
     "execution_count": 59,
     "metadata": {},
     "output_type": "execute_result"
    }
   ],
   "source": [
    "arr3[0,0,1]"
   ]
  },
  {
   "cell_type": "code",
   "execution_count": 61,
   "id": "e4afdb82-e70a-48f8-86ff-27b661a6aeb1",
   "metadata": {},
   "outputs": [
    {
     "data": {
      "text/plain": [
       "array([10, 15, 25])"
      ]
     },
     "execution_count": 61,
     "metadata": {},
     "output_type": "execute_result"
    }
   ],
   "source": [
    "arr1=np.array([1,2,5,10,15,25])\n",
    "arr1[3:6:1]"
   ]
  },
  {
   "cell_type": "code",
   "execution_count": 63,
   "id": "b4ed296a-18c7-4463-b805-f0aad6c0039b",
   "metadata": {},
   "outputs": [
    {
     "data": {
      "text/plain": [
       "array([25, 15, 10])"
      ]
     },
     "execution_count": 63,
     "metadata": {},
     "output_type": "execute_result"
    }
   ],
   "source": [
    "arr1[-1:-4:-1]"
   ]
  },
  {
   "cell_type": "code",
   "execution_count": 65,
   "id": "d0838f2e-ac67-4e5e-a377-36882bf7bb0e",
   "metadata": {},
   "outputs": [
    {
     "data": {
      "text/plain": [
       "array([25, 15, 10,  5,  2,  1])"
      ]
     },
     "execution_count": 65,
     "metadata": {},
     "output_type": "execute_result"
    }
   ],
   "source": [
    "arr1[::-1]"
   ]
  },
  {
   "cell_type": "code",
   "execution_count": 67,
   "id": "57e6b3cd-4e38-4961-b4a6-4be7e9cf8cc0",
   "metadata": {},
   "outputs": [
    {
     "data": {
      "text/plain": [
       "array([ 1,  5, 15])"
      ]
     },
     "execution_count": 67,
     "metadata": {},
     "output_type": "execute_result"
    }
   ],
   "source": [
    "arr1[::2]"
   ]
  },
  {
   "cell_type": "code",
   "execution_count": 69,
   "id": "a6a834a1-1b4f-4be3-889d-fdf6211af5d0",
   "metadata": {},
   "outputs": [
    {
     "data": {
      "text/plain": [
       "array([10, 15])"
      ]
     },
     "execution_count": 69,
     "metadata": {},
     "output_type": "execute_result"
    }
   ],
   "source": [
    "arr1[-3:-1]"
   ]
  },
  {
   "cell_type": "code",
   "execution_count": 73,
   "id": "f4dc78e3-b2ef-4553-8ca7-bc67eeb6e428",
   "metadata": {},
   "outputs": [
    {
     "data": {
      "text/plain": [
       "array([2, 3])"
      ]
     },
     "execution_count": 73,
     "metadata": {},
     "output_type": "execute_result"
    }
   ],
   "source": [
    "arr2=np.array([[1,2,3],[4,5,6],[7,8,9]])\n",
    "arr2[0,1:]"
   ]
  },
  {
   "cell_type": "code",
   "execution_count": 75,
   "id": "f00ab252-af74-4b6f-99bf-418e82f142bb",
   "metadata": {},
   "outputs": [
    {
     "data": {
      "text/plain": [
       "array([2, 5, 8])"
      ]
     },
     "execution_count": 75,
     "metadata": {},
     "output_type": "execute_result"
    }
   ],
   "source": [
    "arr2[:,1]"
   ]
  },
  {
   "cell_type": "code",
   "execution_count": 77,
   "id": "44fc2cf3-134a-49fd-a81b-1e165cbceef4",
   "metadata": {},
   "outputs": [
    {
     "data": {
      "text/plain": [
       "array([3, 6, 9])"
      ]
     },
     "execution_count": 77,
     "metadata": {},
     "output_type": "execute_result"
    }
   ],
   "source": [
    "arr2[:,2]"
   ]
  },
  {
   "cell_type": "code",
   "execution_count": 79,
   "id": "fa1d25ef-c9a0-4d74-bb9f-e1acbd9f7fbb",
   "metadata": {},
   "outputs": [
    {
     "data": {
      "text/plain": [
       "array([1, 4, 7])"
      ]
     },
     "execution_count": 79,
     "metadata": {},
     "output_type": "execute_result"
    }
   ],
   "source": [
    "arr2[:,0]"
   ]
  },
  {
   "cell_type": "code",
   "execution_count": 87,
   "id": "1388d334-2226-4830-98f7-3c5761033985",
   "metadata": {},
   "outputs": [
    {
     "data": {
      "text/plain": [
       "array([4, 6])"
      ]
     },
     "execution_count": 87,
     "metadata": {},
     "output_type": "execute_result"
    }
   ],
   "source": [
    "arr2[1,0:3:2]"
   ]
  },
  {
   "cell_type": "code",
   "execution_count": 91,
   "id": "7b43bf7f-425d-429b-857c-e5195649941f",
   "metadata": {},
   "outputs": [
    {
     "data": {
      "text/plain": [
       "array([[1, 2],\n",
       "       [4, 5],\n",
       "       [7, 8]])"
      ]
     },
     "execution_count": 91,
     "metadata": {},
     "output_type": "execute_result"
    }
   ],
   "source": [
    "arr2[:,:2]"
   ]
  },
  {
   "cell_type": "code",
   "execution_count": 93,
   "id": "28842cbc-3567-4472-b7d1-6a8a39afa91e",
   "metadata": {},
   "outputs": [
    {
     "data": {
      "text/plain": [
       "array([1, 2, 3])"
      ]
     },
     "execution_count": 93,
     "metadata": {},
     "output_type": "execute_result"
    }
   ],
   "source": [
    "arr3=np.array([[[1,2,3],[4,5,6]],[[7,8,9],[10,11,12]]])\n",
    "arr3[0,0,:]"
   ]
  },
  {
   "cell_type": "code",
   "execution_count": 97,
   "id": "3902141f-f314-440e-848a-ee7a7166cbe5",
   "metadata": {},
   "outputs": [
    {
     "data": {
      "text/plain": [
       "4"
      ]
     },
     "execution_count": 97,
     "metadata": {},
     "output_type": "execute_result"
    }
   ],
   "source": [
    "arr3[0,1,0]"
   ]
  },
  {
   "cell_type": "code",
   "execution_count": 99,
   "id": "69e2071e-d2b7-4013-ab98-7dfb4b35d930",
   "metadata": {},
   "outputs": [
    {
     "data": {
      "text/plain": [
       "array([11, 12])"
      ]
     },
     "execution_count": 99,
     "metadata": {},
     "output_type": "execute_result"
    }
   ],
   "source": [
    "arr3[1,1,1:]"
   ]
  },
  {
   "cell_type": "code",
   "execution_count": 101,
   "id": "19411477-c4cd-4382-b691-8dfe9decaf96",
   "metadata": {},
   "outputs": [
    {
     "data": {
      "text/plain": [
       "array([[1, 2],\n",
       "       [4, 5]])"
      ]
     },
     "execution_count": 101,
     "metadata": {},
     "output_type": "execute_result"
    }
   ],
   "source": [
    "arr3[0,:,:2]"
   ]
  },
  {
   "cell_type": "code",
   "execution_count": 103,
   "id": "454c2c9d-cb92-4413-b624-a1e5c53f6e7f",
   "metadata": {},
   "outputs": [
    {
     "data": {
      "text/plain": [
       "array([6, 5, 4])"
      ]
     },
     "execution_count": 103,
     "metadata": {},
     "output_type": "execute_result"
    }
   ],
   "source": [
    "arr3[0,1,::-1]"
   ]
  },
  {
   "cell_type": "code",
   "execution_count": 105,
   "id": "c18b221f-df7a-4ade-85bb-3907e912d42d",
   "metadata": {},
   "outputs": [
    {
     "data": {
      "text/plain": [
       "array([[ 4,  6],\n",
       "       [10, 12]])"
      ]
     },
     "execution_count": 105,
     "metadata": {},
     "output_type": "execute_result"
    }
   ],
   "source": [
    "arr3[:,1,::2]"
   ]
  },
  {
   "cell_type": "code",
   "execution_count": 113,
   "id": "b6e8032b-5a2e-47b8-aebf-09b8fe7e5ba5",
   "metadata": {},
   "outputs": [
    {
     "data": {
      "text/plain": [
       "array([0, 0, 0])"
      ]
     },
     "execution_count": 113,
     "metadata": {},
     "output_type": "execute_result"
    }
   ],
   "source": [
    "# bulit-in methods\n",
    "a=np.zeros(3,dtype=int)\n",
    "a"
   ]
  },
  {
   "cell_type": "code",
   "execution_count": 117,
   "id": "a87bb636-ff34-47fb-86fc-c71c0e8e6079",
   "metadata": {},
   "outputs": [
    {
     "data": {
      "text/plain": [
       "array([[0, 0, 0],\n",
       "       [0, 0, 0],\n",
       "       [0, 0, 0]])"
      ]
     },
     "execution_count": 117,
     "metadata": {},
     "output_type": "execute_result"
    }
   ],
   "source": [
    "# 2D\n",
    "b=np.zeros((3,3),dtype=int)\n",
    "b"
   ]
  },
  {
   "cell_type": "code",
   "execution_count": 121,
   "id": "675f8cf3-dd8a-4824-ad5b-1f8e7e7ba46e",
   "metadata": {},
   "outputs": [
    {
     "data": {
      "text/plain": [
       "array([[1, 2, 3],\n",
       "       [0, 0, 0],\n",
       "       [0, 0, 0]])"
      ]
     },
     "execution_count": 121,
     "metadata": {},
     "output_type": "execute_result"
    }
   ],
   "source": [
    "b[0,:]=[1,2,3]\n",
    "b"
   ]
  },
  {
   "cell_type": "code",
   "execution_count": 123,
   "id": "e5665088-2747-4a1d-bc98-f2442609c90b",
   "metadata": {},
   "outputs": [
    {
     "data": {
      "text/plain": [
       "array([[1, 2, 3],\n",
       "       [1, 2, 3],\n",
       "       [1, 2, 3]])"
      ]
     },
     "execution_count": 123,
     "metadata": {},
     "output_type": "execute_result"
    }
   ],
   "source": [
    "b[:,:]=[1,2,3]\n",
    "b"
   ]
  },
  {
   "cell_type": "code",
   "execution_count": 125,
   "id": "6b675a23-40a6-413e-88f1-d1a42bca49f2",
   "metadata": {},
   "outputs": [
    {
     "data": {
      "text/plain": [
       "array([[[0, 0, 0],\n",
       "        [0, 0, 0]],\n",
       "\n",
       "       [[0, 0, 0],\n",
       "        [0, 0, 0]],\n",
       "\n",
       "       [[0, 0, 0],\n",
       "        [0, 0, 0]]])"
      ]
     },
     "execution_count": 125,
     "metadata": {},
     "output_type": "execute_result"
    }
   ],
   "source": [
    "# 3D\n",
    "c=np.zeros((3,2,3),dtype=int)\n",
    "c"
   ]
  },
  {
   "cell_type": "code",
   "execution_count": 127,
   "id": "156f875b-7844-441b-ad59-ff00b9a151fb",
   "metadata": {},
   "outputs": [
    {
     "data": {
      "text/plain": [
       "array([1, 1, 1])"
      ]
     },
     "execution_count": 127,
     "metadata": {},
     "output_type": "execute_result"
    }
   ],
   "source": [
    "d=np.ones(3,dtype=int)\n",
    "d"
   ]
  },
  {
   "cell_type": "code",
   "execution_count": 129,
   "id": "3a3337f6-5f60-4798-82b8-95601ffb6ec0",
   "metadata": {},
   "outputs": [
    {
     "data": {
      "text/plain": [
       "array([[1, 1, 1],\n",
       "       [1, 1, 1],\n",
       "       [1, 1, 1]])"
      ]
     },
     "execution_count": 129,
     "metadata": {},
     "output_type": "execute_result"
    }
   ],
   "source": [
    "e=np.ones((3,3),dtype=int)\n",
    "e"
   ]
  },
  {
   "cell_type": "code",
   "execution_count": 131,
   "id": "dba640cb-0d80-4988-9250-294413ea28bf",
   "metadata": {},
   "outputs": [
    {
     "data": {
      "text/plain": [
       "array([[[1, 1, 1],\n",
       "        [1, 1, 1]],\n",
       "\n",
       "       [[1, 1, 1],\n",
       "        [1, 1, 1]],\n",
       "\n",
       "       [[1, 1, 1],\n",
       "        [1, 1, 1]]])"
      ]
     },
     "execution_count": 131,
     "metadata": {},
     "output_type": "execute_result"
    }
   ],
   "source": [
    "f=np.ones((3,2,3),dtype=int)\n",
    "f"
   ]
  },
  {
   "cell_type": "code",
   "execution_count": 9,
   "id": "51f05fd9-18f8-4275-81fe-5d583959bad2",
   "metadata": {},
   "outputs": [
    {
     "data": {
      "text/plain": [
       "array([[1, 0, 0, 0],\n",
       "       [0, 1, 0, 0],\n",
       "       [0, 0, 1, 0],\n",
       "       [0, 0, 0, 1]])"
      ]
     },
     "execution_count": 9,
     "metadata": {},
     "output_type": "execute_result"
    }
   ],
   "source": [
    "# identity\n",
    "np.identity(4,dtype=int)"
   ]
  },
  {
   "cell_type": "code",
   "execution_count": 21,
   "id": "87b690f9-a6de-45fe-b061-07d7f0ec8e9f",
   "metadata": {},
   "outputs": [
    {
     "data": {
      "text/plain": [
       "array([[1, 0, 0, 0],\n",
       "       [0, 1, 0, 0],\n",
       "       [0, 0, 1, 0],\n",
       "       [0, 0, 0, 1]])"
      ]
     },
     "execution_count": 21,
     "metadata": {},
     "output_type": "execute_result"
    }
   ],
   "source": [
    "# eye\n",
    "np.eye(4,dtype=int)"
   ]
  },
  {
   "cell_type": "code",
   "execution_count": 143,
   "id": "23c865a3-0e65-43d8-86b6-dc3a7b779edf",
   "metadata": {},
   "outputs": [
    {
     "data": {
      "text/plain": [
       "array([[[100, 100],\n",
       "        [100, 100]],\n",
       "\n",
       "       [[100, 100],\n",
       "        [100, 100]],\n",
       "\n",
       "       [[100, 100],\n",
       "        [100, 100]]])"
      ]
     },
     "execution_count": 143,
     "metadata": {},
     "output_type": "execute_result"
    }
   ],
   "source": [
    "# full\n",
    "np.full((3,2,2),100)"
   ]
  },
  {
   "cell_type": "code",
   "execution_count": 149,
   "id": "6231246c-84df-4f67-8b0b-569dbeac7fe3",
   "metadata": {},
   "outputs": [
    {
     "data": {
      "text/plain": [
       "array([[[ 10,  50, 100],\n",
       "        [  1,   2,   3]],\n",
       "\n",
       "       [[ 10,  50, 100],\n",
       "        [  1,   2,   3]],\n",
       "\n",
       "       [[ 10,  50, 100],\n",
       "        [  1,   2,   3]]])"
      ]
     },
     "execution_count": 149,
     "metadata": {},
     "output_type": "execute_result"
    }
   ],
   "source": [
    "a=np.full((3,2,3),[[10,50,100],[1,2,3]])\n",
    "a"
   ]
  },
  {
   "cell_type": "code",
   "execution_count": 161,
   "id": "551a1077-9bdb-4af3-9edd-32224879e6ce",
   "metadata": {},
   "outputs": [
    {
     "data": {
      "text/plain": [
       "array([[ 1,  2,  3],\n",
       "       [ 4,  5,  6],\n",
       "       [ 7,  8,  9],\n",
       "       [10, 11, 12]])"
      ]
     },
     "execution_count": 161,
     "metadata": {},
     "output_type": "execute_result"
    }
   ],
   "source": [
    "# reshape function\n",
    "s=np.array([[1,2,3],[4,5,6],[7,8,9],[10,11,12]])\n",
    "s"
   ]
  },
  {
   "cell_type": "code",
   "execution_count": 163,
   "id": "ad167d6c-9339-4a09-890b-d7b8a6d0d9d8",
   "metadata": {},
   "outputs": [
    {
     "data": {
      "text/plain": [
       "array([[[ 1,  2,  3],\n",
       "        [ 4,  5,  6]],\n",
       "\n",
       "       [[ 7,  8,  9],\n",
       "        [10, 11, 12]]])"
      ]
     },
     "execution_count": 163,
     "metadata": {},
     "output_type": "execute_result"
    }
   ],
   "source": [
    "s.reshape((2,2,3))"
   ]
  },
  {
   "cell_type": "code",
   "execution_count": 165,
   "id": "2816cbb4-3f14-4a2a-9075-0b66bc8f1a4f",
   "metadata": {},
   "outputs": [
    {
     "data": {
      "text/plain": [
       "array([[ 1,  2,  3,  4,  5,  6],\n",
       "       [ 7,  8,  9, 10, 11, 12]])"
      ]
     },
     "execution_count": 165,
     "metadata": {},
     "output_type": "execute_result"
    }
   ],
   "source": [
    "s.reshape(2,6)"
   ]
  },
  {
   "cell_type": "code",
   "execution_count": 173,
   "id": "0ab86ae0-00ee-43d9-815d-2625f9475938",
   "metadata": {},
   "outputs": [
    {
     "data": {
      "text/plain": [
       "array([[[ 1,  2,  3],\n",
       "        [ 4,  5,  6]],\n",
       "\n",
       "       [[ 7,  8,  9],\n",
       "        [10, 11, 12]],\n",
       "\n",
       "       [[ 1,  2,  3],\n",
       "        [ 4,  5,  6]]])"
      ]
     },
     "execution_count": 173,
     "metadata": {},
     "output_type": "execute_result"
    }
   ],
   "source": [
    "# resize \n",
    "np.resize(s,(3,2,3))"
   ]
  },
  {
   "cell_type": "code",
   "execution_count": 175,
   "id": "388e73dc-e4fd-4a3a-87b0-cff7c9c4b0ce",
   "metadata": {},
   "outputs": [
    {
     "data": {
      "text/plain": [
       "array([0, 1, 2, 3, 4, 5, 6, 7, 8, 9])"
      ]
     },
     "execution_count": 175,
     "metadata": {},
     "output_type": "execute_result"
    }
   ],
   "source": [
    "# arange(start,stop,step)\n",
    "np.arange(10)"
   ]
  },
  {
   "cell_type": "code",
   "execution_count": 177,
   "id": "6f16136e-b44d-4aa4-8154-bfce72b18da2",
   "metadata": {},
   "outputs": [
    {
     "data": {
      "text/plain": [
       "array([ 0,  2,  4,  6,  8, 10])"
      ]
     },
     "execution_count": 177,
     "metadata": {},
     "output_type": "execute_result"
    }
   ],
   "source": [
    "np.arange(0,11,2)"
   ]
  },
  {
   "cell_type": "code",
   "execution_count": 181,
   "id": "8e233f01-1447-4c55-b7e1-8f8984475c7d",
   "metadata": {},
   "outputs": [
    {
     "data": {
      "text/plain": [
       "array([1. , 3.5, 6. , 8.5])"
      ]
     },
     "execution_count": 181,
     "metadata": {},
     "output_type": "execute_result"
    }
   ],
   "source": [
    "np.arange(1,11,2.5)"
   ]
  },
  {
   "cell_type": "code",
   "execution_count": 200,
   "id": "8823efeb-08ea-4702-a087-560dd5c560a5",
   "metadata": {},
   "outputs": [
    {
     "data": {
      "text/plain": [
       "(array([1.        , 1.44444444, 1.88888889, 2.33333333, 2.77777778,\n",
       "        3.22222222, 3.66666667, 4.11111111, 4.55555556, 5.        ]),\n",
       " 0.4444444444444444)"
      ]
     },
     "execution_count": 200,
     "metadata": {},
     "output_type": "execute_result"
    }
   ],
   "source": [
    "# linspace\n",
    "np.linspace(1,5,10,retstep=True)"
   ]
  },
  {
   "cell_type": "code",
   "execution_count": 202,
   "id": "11492d26-41d8-44ad-9794-91f511c6616e",
   "metadata": {},
   "outputs": [
    {
     "data": {
      "text/plain": [
       "(array([ 5.        ,  7.22222222,  9.44444444, 11.66666667, 13.88888889,\n",
       "        16.11111111, 18.33333333, 20.55555556, 22.77777778, 25.        ]),\n",
       " 2.2222222222222223)"
      ]
     },
     "execution_count": 202,
     "metadata": {},
     "output_type": "execute_result"
    }
   ],
   "source": [
    "np.linspace(5,25,10,retstep=True)"
   ]
  },
  {
   "cell_type": "code",
   "execution_count": 208,
   "id": "d46ffbb8-f6d7-4f23-bce2-7c408626fd67",
   "metadata": {},
   "outputs": [
    {
     "name": "stdout",
     "output_type": "stream",
     "text": [
      "[11 12 13]\n",
      "[10 20 30]\n",
      "[-9 -8 -7]\n",
      "[0.1 0.2 0.3]\n",
      "[0 0 0]\n",
      "[    1  1024 59049]\n",
      "[1 2 3]\n"
     ]
    }
   ],
   "source": [
    "# broadcasting-it is a mechanism that allows numpy to perform element-wise operations on arrays of different shape.\n",
    "a=np.array([1,2,3])\n",
    "print(a+10)\n",
    "print(a*10)\n",
    "print(a-10)\n",
    "print(a/10)\n",
    "print(a//10)\n",
    "print(a**10)\n",
    "print(a%10)"
   ]
  },
  {
   "cell_type": "code",
   "execution_count": 214,
   "id": "f35a3495-b699-43b9-a766-df4c97866a11",
   "metadata": {},
   "outputs": [
    {
     "data": {
      "text/plain": [
       "array([5, 7, 9])"
      ]
     },
     "execution_count": 214,
     "metadata": {},
     "output_type": "execute_result"
    }
   ],
   "source": [
    "# vectorized operation\n",
    "b=np.array([4,5,6])\n",
    "a+b"
   ]
  },
  {
   "cell_type": "code",
   "execution_count": 219,
   "id": "837014a4-ddb0-4815-a27f-a8b25228aaaa",
   "metadata": {},
   "outputs": [
    {
     "data": {
      "text/plain": [
       "array([10, 17, 24, 31, 38, 45])"
      ]
     },
     "execution_count": 219,
     "metadata": {},
     "output_type": "execute_result"
    }
   ],
   "source": [
    "# max,min,argmax,argmin,unique\n",
    "a=np.arange(10,50,7)\n",
    "a"
   ]
  },
  {
   "cell_type": "code",
   "execution_count": 221,
   "id": "fac6be7b-792e-4bd5-9fac-c0a9b646125a",
   "metadata": {},
   "outputs": [
    {
     "data": {
      "text/plain": [
       "45"
      ]
     },
     "execution_count": 221,
     "metadata": {},
     "output_type": "execute_result"
    }
   ],
   "source": [
    "max(a)"
   ]
  },
  {
   "cell_type": "code",
   "execution_count": 223,
   "id": "52dedb9f-ee88-4327-be1d-4eaae789fd1d",
   "metadata": {},
   "outputs": [
    {
     "data": {
      "text/plain": [
       "10"
      ]
     },
     "execution_count": 223,
     "metadata": {},
     "output_type": "execute_result"
    }
   ],
   "source": [
    "min(a)"
   ]
  },
  {
   "cell_type": "code",
   "execution_count": 227,
   "id": "eeebf225-b683-4edb-a554-af43e9ec1b05",
   "metadata": {},
   "outputs": [
    {
     "data": {
      "text/plain": [
       "5"
      ]
     },
     "execution_count": 227,
     "metadata": {},
     "output_type": "execute_result"
    }
   ],
   "source": [
    "np.argmax(a)"
   ]
  },
  {
   "cell_type": "code",
   "execution_count": 229,
   "id": "8078a348-e91a-49d3-9856-dc9234890898",
   "metadata": {},
   "outputs": [
    {
     "data": {
      "text/plain": [
       "0"
      ]
     },
     "execution_count": 229,
     "metadata": {},
     "output_type": "execute_result"
    }
   ],
   "source": [
    "np.argmin(a)"
   ]
  },
  {
   "cell_type": "code",
   "execution_count": 231,
   "id": "63e8b28c-ec6d-401b-92c2-b59fe1bd2a70",
   "metadata": {},
   "outputs": [
    {
     "data": {
      "text/plain": [
       "array([1, 2, 5, 2, 1, 9])"
      ]
     },
     "execution_count": 231,
     "metadata": {},
     "output_type": "execute_result"
    }
   ],
   "source": [
    "b=np.array([1,2,5,2,1,9])\n",
    "b"
   ]
  },
  {
   "cell_type": "code",
   "execution_count": 233,
   "id": "510be3c2-6c86-4feb-9c34-5a872618c1d1",
   "metadata": {},
   "outputs": [
    {
     "data": {
      "text/plain": [
       "array([1, 2, 5, 9])"
      ]
     },
     "execution_count": 233,
     "metadata": {},
     "output_type": "execute_result"
    }
   ],
   "source": [
    "np.unique(b)"
   ]
  },
  {
   "cell_type": "code",
   "execution_count": 1,
   "id": "f78868ab-cc03-498d-9838-cb81578acb6a",
   "metadata": {},
   "outputs": [
    {
     "data": {
      "text/plain": [
       "array([   1,    2, 1010,    4,  108,   18,   71,  610])"
      ]
     },
     "execution_count": 1,
     "metadata": {},
     "output_type": "execute_result"
    }
   ],
   "source": [
    "# filtering condition\n",
    "import numpy as np\n",
    "arr1=np.array([1,2,1010,4,108,18,71,610])\n",
    "arr1"
   ]
  },
  {
   "cell_type": "code",
   "execution_count": 3,
   "id": "a69a29c4-ef28-4c86-b5b1-84c7562b5667",
   "metadata": {},
   "outputs": [
    {
     "data": {
      "text/plain": [
       "array([ True,  True, False,  True, False,  True,  True, False])"
      ]
     },
     "execution_count": 3,
     "metadata": {},
     "output_type": "execute_result"
    }
   ],
   "source": [
    "arr1<100"
   ]
  },
  {
   "cell_type": "code",
   "execution_count": 5,
   "id": "589bf4bf-4105-4fdd-a286-12f7214678c0",
   "metadata": {},
   "outputs": [
    {
     "data": {
      "text/plain": [
       "(array([0, 1, 3, 5, 6], dtype=int64),)"
      ]
     },
     "execution_count": 5,
     "metadata": {},
     "output_type": "execute_result"
    }
   ],
   "source": [
    "np.where(arr1<100)"
   ]
  },
  {
   "cell_type": "code",
   "execution_count": 7,
   "id": "d9924818-f924-4fa3-93e6-be66d4b0a7e6",
   "metadata": {},
   "outputs": [
    {
     "data": {
      "text/plain": [
       "array([ 1,  2,  4, 18, 71])"
      ]
     },
     "execution_count": 7,
     "metadata": {},
     "output_type": "execute_result"
    }
   ],
   "source": [
    "arr1[np.where(arr1<100)]"
   ]
  },
  {
   "cell_type": "code",
   "execution_count": 9,
   "id": "91463a3f-af2e-4af6-841c-cec4e4a5cfe4",
   "metadata": {},
   "outputs": [
    {
     "data": {
      "text/plain": [
       "array([ 1,  2,  4, 18, 71])"
      ]
     },
     "execution_count": 9,
     "metadata": {},
     "output_type": "execute_result"
    }
   ],
   "source": [
    "arr1[arr1<100]"
   ]
  },
  {
   "cell_type": "code",
   "execution_count": 13,
   "id": "12147b9c-8b92-4364-b5b7-e1533b168984",
   "metadata": {},
   "outputs": [
    {
     "name": "stdout",
     "output_type": "stream",
     "text": [
      "bool\n"
     ]
    }
   ],
   "source": [
    "arr2=np.array([True,True,False,False])\n",
    "print(arr2.dtype)"
   ]
  },
  {
   "cell_type": "code",
   "execution_count": 17,
   "id": "1106fd9c-4c13-4126-b0ba-f9a6d125cc79",
   "metadata": {},
   "outputs": [
    {
     "data": {
      "text/plain": [
       "array([ True,  True])"
      ]
     },
     "execution_count": 17,
     "metadata": {},
     "output_type": "execute_result"
    }
   ],
   "source": [
    "arr2[arr2==True]"
   ]
  },
  {
   "cell_type": "code",
   "execution_count": 19,
   "id": "3728624d-ba24-4d22-a2e4-c75ae4da3dd1",
   "metadata": {},
   "outputs": [
    {
     "data": {
      "text/plain": [
       "(array([0, 1], dtype=int64),)"
      ]
     },
     "execution_count": 19,
     "metadata": {},
     "output_type": "execute_result"
    }
   ],
   "source": [
    "np.where(arr2==True)"
   ]
  },
  {
   "cell_type": "code",
   "execution_count": 25,
   "id": "7a851871-3065-452e-af71-7d57bc6f7c50",
   "metadata": {},
   "outputs": [
    {
     "data": {
      "text/plain": [
       "array([ 1,  2, 10,  4, 10, 18, 71, 10])"
      ]
     },
     "execution_count": 25,
     "metadata": {},
     "output_type": "execute_result"
    }
   ],
   "source": [
    "arr1=np.array([1,2,1010,4,108,18,71,610])\n",
    "arr1[arr1>100]=10\n",
    "arr1"
   ]
  },
  {
   "cell_type": "code",
   "execution_count": 32,
   "id": "1f6abc66-afe5-4672-896c-5491f3cb3057",
   "metadata": {},
   "outputs": [
    {
     "data": {
      "text/plain": [
       "array([   1,    2,    4,   18,   71,  108,  610, 1010])"
      ]
     },
     "execution_count": 32,
     "metadata": {},
     "output_type": "execute_result"
    }
   ],
   "source": [
    "# sorting\n",
    "arr1=np.array([1,2,1010,4,108,18,71,610])\n",
    "arr1.sort()\n",
    "arr1"
   ]
  },
  {
   "cell_type": "code",
   "execution_count": 34,
   "id": "a7ac8290-b0dd-46e9-bb9b-3b8620e48671",
   "metadata": {},
   "outputs": [
    {
     "data": {
      "text/plain": [
       "array([1010,  610,  108,   71,   18,    4,    2,    1])"
      ]
     },
     "execution_count": 34,
     "metadata": {},
     "output_type": "execute_result"
    }
   ],
   "source": [
    "arr1[::-1] # here, we cant use reverse command"
   ]
  },
  {
   "cell_type": "code",
   "execution_count": 36,
   "id": "f5b9afe0-ffe8-4e44-b836-2ac3a2c06b89",
   "metadata": {},
   "outputs": [
    {
     "data": {
      "text/plain": [
       "array([[65, 20, 79, 63, 12],\n",
       "       [67, 23, 90, 78, 92]])"
      ]
     },
     "execution_count": 36,
     "metadata": {},
     "output_type": "execute_result"
    }
   ],
   "source": [
    "# 2D ARRAY\n",
    "arr2=np.array([[67,23,90,78,12],[65,20,79,63,92]])\n",
    "arr2.sort(axis=0)\n",
    "arr2"
   ]
  },
  {
   "cell_type": "code",
   "execution_count": 38,
   "id": "9e03a71b-7051-4c1b-8184-b77f63e1dc5f",
   "metadata": {},
   "outputs": [
    {
     "data": {
      "text/plain": [
       "array([[12, 20, 63, 65, 79],\n",
       "       [23, 67, 78, 90, 92]])"
      ]
     },
     "execution_count": 38,
     "metadata": {},
     "output_type": "execute_result"
    }
   ],
   "source": [
    "arr2.sort(axis=1)\n",
    "arr2"
   ]
  },
  {
   "cell_type": "code",
   "execution_count": 40,
   "id": "45d97ad1-8ccc-46c8-9ef5-10b93107f254",
   "metadata": {},
   "outputs": [
    {
     "data": {
      "text/plain": [
       "array([[0, 0, 0, 0, 0, 0, 0, 0, 0, 0],\n",
       "       [0, 0, 0, 0, 0, 0, 0, 0, 0, 0],\n",
       "       [0, 0, 0, 0, 0, 0, 0, 0, 0, 0],\n",
       "       [0, 0, 0, 0, 0, 0, 0, 0, 0, 0],\n",
       "       [0, 0, 0, 0, 0, 0, 0, 0, 0, 0],\n",
       "       [0, 0, 0, 0, 0, 0, 0, 0, 0, 0],\n",
       "       [0, 0, 0, 0, 0, 0, 0, 0, 0, 0],\n",
       "       [0, 0, 0, 0, 0, 0, 0, 0, 0, 0],\n",
       "       [0, 0, 0, 0, 0, 0, 0, 0, 0, 0],\n",
       "       [0, 0, 0, 0, 0, 0, 0, 0, 0, 0]])"
      ]
     },
     "execution_count": 40,
     "metadata": {},
     "output_type": "execute_result"
    }
   ],
   "source": [
    "# fancy indexing\n",
    "# ->set-up matrix\n",
    "a=np.zeros((10,10),dtype=int)\n",
    "a\n"
   ]
  },
  {
   "cell_type": "code",
   "execution_count": 50,
   "id": "1cf0d704-bcfe-45d0-8894-8ef49be76f18",
   "metadata": {},
   "outputs": [
    {
     "name": "stdout",
     "output_type": "stream",
     "text": [
      "[[ 1  1  1  1  1  1  1  1  1  1]\n",
      " [ 2  2  2  2  2  2  2  2  2  2]\n",
      " [ 3  3  3  3  3  3  3  3  3  3]\n",
      " [ 4  4  4  4  4  4  4  4  4  4]\n",
      " [ 5  5  5  5  5  5  5  5  5  5]\n",
      " [ 6  6  6  6  6  6  6  6  6  6]\n",
      " [ 7  7  7  7  7  7  7  7  7  7]\n",
      " [ 8  8  8  8  8  8  8  8  8  8]\n",
      " [ 9  9  9  9  9  9  9  9  9  9]\n",
      " [10 10 10 10 10 10 10 10 10 10]]\n"
     ]
    }
   ],
   "source": [
    "for i in range(10):\n",
    "    a[i]=i+1\n",
    "\n",
    "print(a)\n",
    "\n"
   ]
  },
  {
   "cell_type": "code",
   "execution_count": 54,
   "id": "f967e7a3-3012-41cf-892f-d89bc3b0cb52",
   "metadata": {},
   "outputs": [
    {
     "data": {
      "text/plain": [
       "array([[7, 7, 7, 7, 7, 7, 7, 7, 7, 7],\n",
       "       [4, 4, 4, 4, 4, 4, 4, 4, 4, 4],\n",
       "       [9, 9, 9, 9, 9, 9, 9, 9, 9, 9]])"
      ]
     },
     "execution_count": 54,
     "metadata": {},
     "output_type": "execute_result"
    }
   ],
   "source": [
    "a[[6,3,8]] # for rows"
   ]
  },
  {
   "cell_type": "code",
   "execution_count": 60,
   "id": "e82871b4-4446-49f4-9bce-5159ed4506da",
   "metadata": {},
   "outputs": [
    {
     "data": {
      "text/plain": [
       "array([[ 1,  1,  1],\n",
       "       [ 2,  2,  2],\n",
       "       [ 3,  3,  3],\n",
       "       [ 4,  4,  4],\n",
       "       [ 5,  5,  5],\n",
       "       [ 6,  6,  6],\n",
       "       [ 7,  7,  7],\n",
       "       [ 8,  8,  8],\n",
       "       [ 9,  9,  9],\n",
       "       [10, 10, 10]])"
      ]
     },
     "execution_count": 60,
     "metadata": {},
     "output_type": "execute_result"
    }
   ],
   "source": [
    "a[:,[1,4,8]] # for columns"
   ]
  },
  {
   "cell_type": "code",
   "execution_count": 62,
   "id": "ab2dc694-9951-4325-b09b-ebf5b6d641cb",
   "metadata": {},
   "outputs": [
    {
     "data": {
      "text/plain": [
       "array([ 1,  2,  3,  4,  5,  6,  7,  8,  9, 10, 11, 12, 13, 14, 15, 16])"
      ]
     },
     "execution_count": 62,
     "metadata": {},
     "output_type": "execute_result"
    }
   ],
   "source": [
    "arr1=np.array(range(1,17))\n",
    "arr1"
   ]
  },
  {
   "cell_type": "code",
   "execution_count": 72,
   "id": "ad7801a9-27b9-4fb7-891a-b125f7c9fc06",
   "metadata": {},
   "outputs": [
    {
     "data": {
      "text/plain": [
       "array([[ 1,  2,  3,  4],\n",
       "       [ 5,  6,  7,  8],\n",
       "       [ 9, 10, 11, 12],\n",
       "       [13, 14, 15, 16]])"
      ]
     },
     "execution_count": 72,
     "metadata": {},
     "output_type": "execute_result"
    }
   ],
   "source": [
    "b=arr1.reshape((4,4))\n",
    "b"
   ]
  },
  {
   "cell_type": "code",
   "execution_count": 74,
   "id": "355a154a-e3dc-43bd-b6d9-451834135a19",
   "metadata": {},
   "outputs": [
    {
     "data": {
      "text/plain": [
       "array([ 1,  6, 11, 16])"
      ]
     },
     "execution_count": 74,
     "metadata": {},
     "output_type": "execute_result"
    }
   ],
   "source": [
    "b[[0,1,2,3],[0,1,2,3]]\n"
   ]
  },
  {
   "cell_type": "code",
   "execution_count": 76,
   "id": "05f48d21-19a5-4df0-9ccb-73893a3f74c2",
   "metadata": {},
   "outputs": [
    {
     "data": {
      "text/plain": [
       "array([[0.42748321, 0.51406357, 0.25738707, 0.55040952, 0.53383025],\n",
       "       [0.60667968, 0.37192737, 0.68719741, 0.63102841, 0.99814339],\n",
       "       [0.15482882, 0.55045055, 0.48198234, 0.37342116, 0.53878283],\n",
       "       [0.80190249, 0.1118137 , 0.76099078, 0.24966106, 0.2489908 ]])"
      ]
     },
     "execution_count": 76,
     "metadata": {},
     "output_type": "execute_result"
    }
   ],
   "source": [
    "# random numbers\n",
    "from numpy import random\n",
    "r=random.random(size=(4,5))\n",
    "r"
   ]
  },
  {
   "cell_type": "code",
   "execution_count": 78,
   "id": "449863cf-6f62-453f-8eb1-3e63aa7cec55",
   "metadata": {},
   "outputs": [
    {
     "data": {
      "text/plain": [
       "array([[90, 73, 86, 84, 54],\n",
       "       [52, 80, 82, 51, 90],\n",
       "       [70, 58, 79, 58, 95],\n",
       "       [89, 72, 66, 91, 82]])"
      ]
     },
     "execution_count": 78,
     "metadata": {},
     "output_type": "execute_result"
    }
   ],
   "source": [
    "s=random.randint(50,100,size=(4,5))\n",
    "s"
   ]
  },
  {
   "cell_type": "code",
   "execution_count": 82,
   "id": "c02d7097-7edc-422c-8021-3749234c2686",
   "metadata": {},
   "outputs": [
    {
     "data": {
      "text/plain": [
       "array([[ 90,  10,  10],\n",
       "       [ 10,  10,  10],\n",
       "       [ 90, 110,  10]])"
      ]
     },
     "execution_count": 82,
     "metadata": {},
     "output_type": "execute_result"
    }
   ],
   "source": [
    "d=random.choice([90,10,110],p=[0.3,0.6,0.1],size=(3,3)) # p is probability\n",
    "d"
   ]
  },
  {
   "cell_type": "code",
   "execution_count": 90,
   "id": "50070716-e32c-4ce8-9035-8f8bbed38a62",
   "metadata": {},
   "outputs": [
    {
     "data": {
      "text/plain": [
       "array([67, 93, 99, 18, 84, 58, 87, 98, 97, 48, 74, 33, 47, 97, 26, 84, 79,\n",
       "       37, 97, 81])"
      ]
     },
     "execution_count": 90,
     "metadata": {},
     "output_type": "execute_result"
    }
   ],
   "source": [
    "import numpy as np\n",
    "a=np.random.seed(123)# 123 default\n",
    "b=np.random.randint(1,100,20)\n",
    "b"
   ]
  },
  {
   "cell_type": "code",
   "execution_count": 100,
   "id": "f2674c6e-13bc-438d-9ae2-020d6076253a",
   "metadata": {},
   "outputs": [
    {
     "name": "stdout",
     "output_type": "stream",
     "text": [
      "47 248 189\n"
     ]
    }
   ],
   "source": [
    "r=random.randint(0,255)\n",
    "g=random.randint(0,255)\n",
    "b=random.randint(0,255)\n",
    "print(r,g,b) # check the result to get the colour through color picker website"
   ]
  },
  {
   "cell_type": "code",
   "execution_count": 110,
   "id": "d03ba4d1-b5d0-46de-b85e-edc1ff68c602",
   "metadata": {},
   "outputs": [
    {
     "name": "stdout",
     "output_type": "stream",
     "text": [
      "[135 112 110]\n",
      "[ 45 -66  68]\n",
      "[4050 2047 1869]\n",
      "[2.         0.25842697 4.23809524]\n",
      "(array([2, 0, 4]), array([ 0, 23,  5]))\n"
     ]
    }
   ],
   "source": [
    "arr4=np.array([90,23,89])\n",
    "arr5=np.array([45,89,21])\n",
    "arr6=np.array([45,89,21])\n",
    "print(np.add(arr4,arr5,arr6))\n",
    "print(np.subtract(arr4,arr5,arr6))\n",
    "print(np.multiply(arr4,arr5,arr6))\n",
    "print(np.divide(arr4,arr5))\n",
    "print(np.divmod(arr4,arr5,arr6))"
   ]
  },
  {
   "cell_type": "code",
   "execution_count": 130,
   "id": "9fe8b285-d458-4e72-835b-524b78ca43a9",
   "metadata": {},
   "outputs": [
    {
     "name": "stdout",
     "output_type": "stream",
     "text": [
      "[20 40 60]\n",
      "[[0 0 0]]\n",
      "[100 400 900]\n"
     ]
    }
   ],
   "source": [
    "arr4=np.array([10,20,30])\n",
    "arr5=np.array([10,20,30])\n",
    "print(np.sum([arr4,arr5],axis=0))\n",
    "print(np.diff([arr4,arr5],n=1,axis=0))\n",
    "print(np.product([arr4,arr5],axis=0))"
   ]
  },
  {
   "cell_type": "code",
   "execution_count": 134,
   "id": "46fd8c71-6f8f-47fa-94a6-75591aecf5bd",
   "metadata": {},
   "outputs": [
    {
     "data": {
      "text/plain": [
       "array([[1., 0., 0., 0., 0.],\n",
       "       [0., 1., 0., 0., 0.],\n",
       "       [0., 0., 1., 0., 0.],\n",
       "       [0., 0., 0., 1., 0.],\n",
       "       [0., 0., 0., 0., 1.]])"
      ]
     },
     "execution_count": 134,
     "metadata": {},
     "output_type": "execute_result"
    }
   ],
   "source": [
    "np.identity(5)"
   ]
  },
  {
   "cell_type": "code",
   "execution_count": 136,
   "id": "fcd1f037-179e-4a30-913f-1253704d74fa",
   "metadata": {},
   "outputs": [
    {
     "data": {
      "text/plain": [
       "array([[1., 0., 0., 0., 0.],\n",
       "       [0., 1., 0., 0., 0.],\n",
       "       [0., 0., 1., 0., 0.],\n",
       "       [0., 0., 0., 1., 0.],\n",
       "       [0., 0., 0., 0., 1.]])"
      ]
     },
     "execution_count": 136,
     "metadata": {},
     "output_type": "execute_result"
    }
   ],
   "source": [
    "np.eye(5)"
   ]
  },
  {
   "cell_type": "code",
   "execution_count": 3,
   "id": "f7f398b3-ad19-46ec-98b1-d874980b3e6e",
   "metadata": {},
   "outputs": [
    {
     "data": {
      "text/plain": [
       "array([[[5, 5, 5],\n",
       "        [5, 5, 5]],\n",
       "\n",
       "       [[5, 5, 5],\n",
       "        [5, 5, 5]],\n",
       "\n",
       "       [[5, 5, 5],\n",
       "        [5, 5, 5]]])"
      ]
     },
     "execution_count": 3,
     "metadata": {},
     "output_type": "execute_result"
    }
   ],
   "source": [
    "import numpy as np\n",
    "np.full((3,2,3),5)"
   ]
  },
  {
   "cell_type": "code",
   "execution_count": 9,
   "id": "fb920b13-b08e-4125-b514-93c9e8e650c7",
   "metadata": {},
   "outputs": [
    {
     "data": {
      "text/plain": [
       "array([[5],\n",
       "       [4],\n",
       "       [3],\n",
       "       [2],\n",
       "       [1]])"
      ]
     },
     "execution_count": 9,
     "metadata": {},
     "output_type": "execute_result"
    }
   ],
   "source": [
    "a=np.array([1,2,3,4,5])\n",
    "b=a.reshape(5,1)\n",
    "b[::-1]"
   ]
  },
  {
   "cell_type": "code",
   "execution_count": 1,
   "id": "56c36403-b5ec-4569-9573-a07111bb328a",
   "metadata": {},
   "outputs": [
    {
     "data": {
      "text/plain": [
       "array([ 6, 10,  5, 18,  7,  6, 12,  8, 10,  8, 17, 12,  3,  1,  2,  9])"
      ]
     },
     "execution_count": 1,
     "metadata": {},
     "output_type": "execute_result"
    }
   ],
   "source": [
    "import numpy as np\n",
    "from numpy import random\n",
    "arr1=np.random.randint(1,20,16)\n",
    "arr1"
   ]
  },
  {
   "cell_type": "code",
   "execution_count": 3,
   "id": "9b9abaf2-591a-4892-b62b-2d292dd38222",
   "metadata": {},
   "outputs": [
    {
     "data": {
      "text/plain": [
       "array([[[ 6, 10,  5, 18],\n",
       "        [ 7,  6, 12,  8]],\n",
       "\n",
       "       [[10,  8, 17, 12],\n",
       "        [ 3,  1,  2,  9]]])"
      ]
     },
     "execution_count": 3,
     "metadata": {},
     "output_type": "execute_result"
    }
   ],
   "source": [
    "arr2=arr1.reshape(2,2,4)\n",
    "arr2"
   ]
  },
  {
   "cell_type": "code",
   "execution_count": 7,
   "id": "52108d6e-16ff-4e3e-856a-f0397848844c",
   "metadata": {},
   "outputs": [
    {
     "data": {
      "text/plain": [
       "array([[[ 6,  6,  5,  8],\n",
       "        [ 7, 10, 12, 18]],\n",
       "\n",
       "       [[ 3,  1,  2,  9],\n",
       "        [10,  8, 17, 12]]])"
      ]
     },
     "execution_count": 7,
     "metadata": {},
     "output_type": "execute_result"
    }
   ],
   "source": [
    "arr2.sort(axis=1) # for 3D array : (layers is 0,rows is 1,columns is 2)\n",
    "arr2"
   ]
  },
  {
   "cell_type": "code",
   "execution_count": 9,
   "id": "a9c488b9-25b2-4460-8114-b4e9d5293d49",
   "metadata": {},
   "outputs": [
    {
     "data": {
      "text/plain": [
       "array([[[ 5,  6,  6,  8],\n",
       "        [ 7, 10, 12, 18]],\n",
       "\n",
       "       [[ 1,  2,  3,  9],\n",
       "        [ 8, 10, 12, 17]]])"
      ]
     },
     "execution_count": 9,
     "metadata": {},
     "output_type": "execute_result"
    }
   ],
   "source": [
    "arr2.sort(axis=2) # for 3D array : (layers is 0,rows is 1,columns is 2)\n",
    "arr2"
   ]
  },
  {
   "cell_type": "code",
   "execution_count": 40,
   "id": "35afa97f-2b84-45e2-b691-413b57bc00e3",
   "metadata": {},
   "outputs": [
    {
     "data": {
      "text/plain": [
       "datetime.date(2024, 10, 11)"
      ]
     },
     "execution_count": 40,
     "metadata": {},
     "output_type": "execute_result"
    }
   ],
   "source": [
    "from datetime import date\n",
    "a=date.today()\n",
    "a"
   ]
  },
  {
   "cell_type": "code",
   "execution_count": 59,
   "id": "e7d19b67-8f6c-41a9-931b-8ddcc85569a6",
   "metadata": {},
   "outputs": [
    {
     "name": "stdout",
     "output_type": "stream",
     "text": [
      "2003-01-04\n"
     ]
    }
   ],
   "source": [
    "c=date(2003,1,4)\n",
    "print(c)"
   ]
  },
  {
   "cell_type": "code",
   "execution_count": 20,
   "id": "7eacec7d-b045-475c-840a-74862118cff4",
   "metadata": {},
   "outputs": [
    {
     "data": {
      "text/plain": [
       "2024"
      ]
     },
     "execution_count": 20,
     "metadata": {},
     "output_type": "execute_result"
    }
   ],
   "source": [
    "a.year"
   ]
  },
  {
   "cell_type": "code",
   "execution_count": 22,
   "id": "685f6ccb-a196-481d-adb5-706340f0f72f",
   "metadata": {},
   "outputs": [
    {
     "data": {
      "text/plain": [
       "10"
      ]
     },
     "execution_count": 22,
     "metadata": {},
     "output_type": "execute_result"
    }
   ],
   "source": [
    "a.month"
   ]
  },
  {
   "cell_type": "code",
   "execution_count": 24,
   "id": "7093f286-88d6-4a8e-b7d0-2be6647e39ef",
   "metadata": {},
   "outputs": [
    {
     "data": {
      "text/plain": [
       "11"
      ]
     },
     "execution_count": 24,
     "metadata": {},
     "output_type": "execute_result"
    }
   ],
   "source": [
    "a.day"
   ]
  },
  {
   "cell_type": "code",
   "execution_count": 61,
   "id": "cc16d8ef-f36c-4b20-8db1-503aa97058b6",
   "metadata": {},
   "outputs": [
    {
     "data": {
      "text/plain": [
       "6"
      ]
     },
     "execution_count": 61,
     "metadata": {},
     "output_type": "execute_result"
    }
   ],
   "source": [
    "c.isoweekday()"
   ]
  },
  {
   "cell_type": "code",
   "execution_count": 28,
   "id": "e7f5da10-1eb4-4491-90c7-9a8b82d26cf1",
   "metadata": {},
   "outputs": [
    {
     "data": {
      "text/plain": [
       "datetime.datetime(2024, 10, 11, 19, 47, 55, 967065)"
      ]
     },
     "execution_count": 28,
     "metadata": {},
     "output_type": "execute_result"
    }
   ],
   "source": [
    "from datetime import datetime as dt\n",
    "b=dt.now()\n",
    "b"
   ]
  },
  {
   "cell_type": "code",
   "execution_count": 30,
   "id": "0d356921-5ccd-45fe-be51-add9db605cbc",
   "metadata": {},
   "outputs": [
    {
     "data": {
      "text/plain": [
       "47"
      ]
     },
     "execution_count": 30,
     "metadata": {},
     "output_type": "execute_result"
    }
   ],
   "source": [
    "b.minute"
   ]
  },
  {
   "cell_type": "code",
   "execution_count": 34,
   "id": "9a473035-e68a-43ab-9c36-e83b73066baa",
   "metadata": {},
   "outputs": [
    {
     "data": {
      "text/plain": [
       "55"
      ]
     },
     "execution_count": 34,
     "metadata": {},
     "output_type": "execute_result"
    }
   ],
   "source": [
    "b.second"
   ]
  },
  {
   "cell_type": "code",
   "execution_count": 36,
   "id": "ed3b47b5-3d08-4c52-9f7d-9255ec2a26ca",
   "metadata": {},
   "outputs": [
    {
     "data": {
      "text/plain": [
       "19"
      ]
     },
     "execution_count": 36,
     "metadata": {},
     "output_type": "execute_result"
    }
   ],
   "source": [
    "b.hour"
   ]
  },
  {
   "cell_type": "code",
   "execution_count": null,
   "id": "2485d9fb-6ee5-4877-a7e4-c52c6255c440",
   "metadata": {},
   "outputs": [],
   "source": []
  },
  {
   "cell_type": "code",
   "execution_count": null,
   "id": "ac878b87-55fa-4ce3-8434-549d8b3dae3a",
   "metadata": {},
   "outputs": [],
   "source": []
  }
 ],
 "metadata": {
  "kernelspec": {
   "display_name": "Python 3 (ipykernel)",
   "language": "python",
   "name": "python3"
  },
  "language_info": {
   "codemirror_mode": {
    "name": "ipython",
    "version": 3
   },
   "file_extension": ".py",
   "mimetype": "text/x-python",
   "name": "python",
   "nbconvert_exporter": "python",
   "pygments_lexer": "ipython3",
   "version": "3.12.4"
  }
 },
 "nbformat": 4,
 "nbformat_minor": 5
}
